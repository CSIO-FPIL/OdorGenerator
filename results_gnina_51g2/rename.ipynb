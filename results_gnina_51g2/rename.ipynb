{
 "cells": [
  {
   "cell_type": "code",
   "execution_count": 1,
   "metadata": {},
   "outputs": [
    {
     "name": "stdout",
     "output_type": "stream",
     "text": [
      "Renamed: 13_Dithiane_out_model11_score.txt -> Bis-methylthio-methane_out_model11_score.txt\n",
      "Renamed: Butyl_butyrate_out_model11_score.txt -> ETHYL_HEXANOATE_out_model11_score.txt\n",
      "Renamed: 2_Butanol_out_model11_score.txt -> 2-METHYL-1-BUTANOL_out_model11_score.txt\n",
      "Renamed: Propionic_acid_out_model11_score.txt -> propionic_acid_out_model11_score.txt\n",
      "Renamed: 23_Dithiapentane_out_model11_score.txt -> Dimethyl_Disulfide_out_model11_score.txt\n",
      "Renamed: Crotyl_alcohol_out_model11_score.txt -> cis-3-Hexen-1-ol_out_model11_score.txt\n",
      "Renamed: Isobutyraldehyde_out_model11_score.txt -> 2-Methylbutyraldehyde_out_model11_score.txt\n",
      "Renamed: Pentyl_acetate_out_model11_score.txt -> ETHYL_VALERATE_out_model11_score.txt\n",
      "Renamed: 2E_Penta_2_enal_out_model11_score.txt -> 2-Octenal_out_model11_score.txt\n",
      "Renamed: Hexyl_acetate_out_model11_score.txt -> Pentyl_propionate_out_model11_score.txt\n",
      "Renamed: 34_Dithiahexane_out_model11_score.txt -> Dipropyl_disulfide_out_model11_score.txt\n",
      "Renamed: 2_Methylbutanoic_acid_out_model11_score.txt -> 2-Methylbutanoic_acid_out_model11_score.txt\n",
      "Renamed: Butyric_acid_out_model11_score.txt -> butyric_acid_out_model11_score.txt\n",
      "Renamed: 246_Heptatrienal_out_model11_score.txt -> 36-nonadienal_out_model11_score.txt\n",
      "Renamed: Isobutyric_acid_out_model11_score.txt -> ISOBUTYRIC_ACID_out_model11_score.txt\n",
      "Renamed: 2E_4Z_Hexa_2_4_dienal_out_model11_score.txt -> Z-Non-2-enal_out_model11_score.txt\n",
      "Renamed: 245_Trithiapentane_out_model11_score.txt -> Dimethyl_trisulfide_out_model11_score.txt\n",
      "Renamed: 2_Methyl_2_propanol_out_model11_score.txt -> Isoamyl_alcohol_out_model11_score.txt\n",
      "Renamed: 2E_4E_Hexa_24_dienal_out_model11_score.txt -> trans-2-Nonenal_out_model11_score.txt\n",
      "Renamed: Heptyl_acetate_out_model11_score.txt -> Hexyl_acetate_out_model11_score.txt\n"
     ]
    }
   ],
   "source": [
    "import csv\n",
    "import os\n",
    "import re\n",
    "\n",
    "def load_rename_map(csv_file):\n",
    "    rename_map = {}\n",
    "    with open(csv_file, 'r') as f:\n",
    "        reader = csv.DictReader(f)\n",
    "        for row in reader:\n",
    "            rename_map[row['NAME_OLD']] = row['NAME_NEW']\n",
    "    return rename_map\n",
    "\n",
    "def rename_files(directory, rename_map):\n",
    "    for item in os.listdir(directory):\n",
    "        for old_name, new_name in rename_map.items():\n",
    "            if item.startswith(old_name):\n",
    "                new_item = new_name + item[len(old_name):]\n",
    "                old_path = os.path.join(directory, item)\n",
    "                new_path = os.path.join(directory, new_item)\n",
    "                os.rename(old_path, new_path)\n",
    "                print(f\"Renamed: {item} -> {new_item}\")\n",
    "                break  # Stop checking other patterns once a match is found and renamed\n",
    "\n",
    "if __name__ == \"__main__\":\n",
    "    csv_file = \"renamer.csv\"\n",
    "    directory = \".\"  # Current directory, change this if needed\n",
    "    \n",
    "    rename_map = load_rename_map(csv_file)\n",
    "    rename_files(directory, rename_map)"
   ]
  }
 ],
 "metadata": {
  "kernelspec": {
   "display_name": "Python 3",
   "language": "python",
   "name": "python3"
  },
  "language_info": {
   "codemirror_mode": {
    "name": "ipython",
    "version": 3
   },
   "file_extension": ".py",
   "mimetype": "text/x-python",
   "name": "python",
   "nbconvert_exporter": "python",
   "pygments_lexer": "ipython3",
   "version": "3.12.3"
  }
 },
 "nbformat": 4,
 "nbformat_minor": 2
}
